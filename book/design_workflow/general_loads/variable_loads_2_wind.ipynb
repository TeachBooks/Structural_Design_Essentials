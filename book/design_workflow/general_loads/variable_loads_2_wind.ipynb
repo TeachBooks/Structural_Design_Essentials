{
 "cells": [
  {
   "cell_type": "markdown",
   "metadata": {},
   "source": [
    "# Variable loads 2: wind"
   ]
  },
  {
   "cell_type": "markdown",
   "metadata": {},
   "source": [
    "Loads caused by wind can be considerable and therefore have to be\n",
    "studied with care. For design purposes it is sometimes possible to use a\n",
    "simplified version of the code such as the one below. \n",
    "\n",
    "```{note}\n",
    "For a detailed analysis or for building with an irregular shape, always use NEN-EN 1991-1-4 General Actions - Wind Actions.\n",
    "```"
   ]
  },
  {
   "cell_type": "markdown",
   "metadata": {},
   "source": [
    "## Determining the wind loading (simplified formula)\n",
    "$$\n",
    "F_i = c_s · c_d · c_f · q_p(z_e) · A_{ref}\n",
    "$$\n",
    "\n",
    "$F_i$ = Wind force on a structure or structural component [$kN$]  \n",
    "$c_s * c_ d$ = Structural factor1 [-]  \n",
    "$c_f$ = Force coefficient for structure or structural component [-]  \n",
    "$q_p(z_e)$ = Peak velocity pressure at reference height2 ze [$kN/m^2$]  \n",
    "$A_{ref}$ = Reference area on structure or structural component [$m^2$]  \n",
    "\n",
    "```{note}\n",
    "1. The structural factor cscd can be taken as 1 for regular, low-rise buildings, for more information see NEN-EN 1991-1-4.  \n",
    "2. For high buildings (h>b) the velocity pressure may be assumed to decline towards ground level, for details see NEN-EN 1991-1-4.\n",
    "```"
   ]
  },
  {
   "cell_type": "markdown",
   "metadata": {},
   "source": [
    "## Force coefficient for structures and strucural components: roofs and façades\n",
    "In this section the force coefficients for a simple building will be pointed\n",
    "out. As Eurocode is very extensive, the method for determining wind load\n",
    "will be pointed out using a simple structure. For more complicated\n",
    "shapes, use NEN-EN 1991-1-4. The directions of the different wind loads\n",
    "first need to be determined.\n",
    "\n",
    "```{note}\n",
    "Both these pressures need to be combined in the most unfavourable way.\n",
    "```\n",
    "\n",
    "The force coefficients corresponding to the different wind zones depend on the\n",
    "geometry of the building. For certain values the force coefficients are given.\n",
    "For other values linear interpolation is allowed. In this section only the force\n",
    "coefficients belonging to large surfaces are given (>10m2). For smaller surfaces see NEN-EN-1991-1-4.\n",
    "\n",
    "```{figure} Images/Positive_External_Pressure.png\n",
    "---\n",
    "scale: 40%\n",
    "---\n",
    "Positive external pressure.\n",
    "```\n",
    "\n",
    "```{figure} Images/Positive_Internal_Pressure.png\n",
    "---\n",
    "scale: 40%\n",
    "---\n",
    "Positive internal pressure.\n",
    "```"
   ]
  },
  {
   "cell_type": "markdown",
   "metadata": {},
   "source": [
    "## Building parameters"
   ]
  },
  {
   "cell_type": "markdown",
   "metadata": {},
   "source": [
    "$h$ = highest point of building [$m$]  \n",
    "$d$ = dimension in wind direction [$m$]  \n",
    "$b$ = dimension in crosswind direction  \n",
    "$e$ = $b$ or $2h$, whichever is smaller  \n",
    "\n",
    "```{figure} Images/Windbox.png\n",
    "---\n",
    "scale: 50%\n",
    "---\n",
    "Building parameters.\n",
    "```\n",
    "\n"
   ]
  },
  {
   "cell_type": "markdown",
   "metadata": {},
   "source": [
    "## Windzones for façades"
   ]
  },
  {
   "cell_type": "markdown",
   "metadata": {},
   "source": [
    "The different windzones on the façades of a building are shown below.\n",
    "Note that for different values of e and d the number of windzones on the\n",
    "side façades differ from 1 to 3. For buildings with duopitch roofs the same\n",
    "zones apply. The value h should then be taken as the height of the roof-ridge\n",
    "above ground level.\n",
    "\n",
    "```{table} Windzones for façades and corresponding $c_f$ value.\n",
    ":name: facade-windzones\n",
    "| h/d     |   A     |    B     |    C     |    D     |    E     |\n",
    "|---------|---------|----------|----------|----------|----------|\n",
    "| h/d = 5 |   -1.2  |   -0.8   |   -0.5   |   +0.8   |   -0.7   |\n",
    "| h/d = 1 |   -1.2  |   -0.8   |   -0.5   |   +0.8   |   -0.5   |\n",
    "| h/d ≤ 0.25 | -1.2  |   -0.8   |   -0.5   |   +0.7   |   -0.3   |\n",
    "```\n",
    "\n",
    "```{figure} Images/windbelastingen.png\n",
    "---\n",
    "scale: 40%\n",
    "---\n",
    "Windzones for façades of a box-shaped building.\n",
    "```\n",
    "\n",
"```{figure} Images/Windzones1.png\n",
    "---\n",
    "scale: 100%\n",
    "---\n",
    "Windzones for façades. Left: for all e & d. Right: e < d. \n",
    "```\n",
    "\n",
    "```{figure} Images/Windzones2.png\n",
    "---\n",
    "scale: 100%\n",
    "---\n",
    "Windzones for façades. Left: e > d. Right: e > 5d.  \n",
    "```"
   ]
  },
  {
   "cell_type": "markdown",
   "metadata": {},
   "source": [
    "## Windzones for flat roofs (closed buildings)"
   ]
  },
  {
   "cell_type": "markdown",
   "metadata": {},
   "source": [
    "```{table} Windzones for flat roofs and corresponding $c_f$ value.\n",
    ":name: windzones-for-flat-roofs\n",
    "| Type        | F     | G     | H     | I        |\n",
    "|-------------|-------|-------|-------|----------|\n",
    "| Sharp eaves | -1.8  | -1.2  | -0.7  | +0.2/-0.2|\n",
    "```\n",
    "\n",
    "```{figure} Images/Windzones_Roofs1.png\n",
    "---\n",
    "scale: 50%\n",
    "---\n",
    "Flat roofs, both wind directions.\n",
    "```"
   ]
  },
  {
   "cell_type": "markdown",
   "metadata": {},
   "source": [
    "## Windzones for duopitch roofs"
   ]
  },
  {
   "cell_type": "markdown",
   "metadata": {},
   "source": [
    "```{figure} Images/Windzones_Roofs2.png\n",
    "---\n",
    "scale: 50%\n",
    "---\n",
    "Duopitch roofs, ridge crosswind ($\\theta = 0$).\n",
    "```\n",
    "  \n",
    "```{figure} Images/Windzones_Roofs3.png\n",
    "---\n",
    "scale: 50%\n",
    "---\n",
    "Duopitch roofs, ridge parallel to ($\\theta = 90$).\n",
    "```\n",
    "\n",
    "```{table} Dupitch roofs, where $theta = 0$, and its corresponding $c_f$ value.\n",
    ":name: windzones-for-duopitch-roofs-theta0\n",
    "| Roof Angle (α) |    F    |    G    |    H    |    I    |    J    |\n",
    "|----------------|---------|---------|---------|---------|---------|\n",
    "|       5º       |  -1.7   |  -1.2   |  -0.6   |  -0.6   |  +0.2   |\n",
    "|                |  +0.0   |  +0.0   |  +0.0   |  -0.6   |  -0.6   |\n",
    "|      15º       |  -0.9   |  -0.8   |  -0.3   |  -0.4   |  -1.0   |\n",
    "|                |  +0.2   |  +0.2   |  +0.2   |  +0.0   |  +0.0   |\n",
    "|      30º       |  -0.5   |  -0.5   |  -0.2   |  -0.4   |  -0.5   |\n",
    "|                |  +0.7   |  +0.7   |  +0.4   |  +0.0   |  +0.0   |\n",
    "|      45º       |   0.0   |   0.0   |   0.0   |  -0.2   |  -0.3   |\n",
    "|                |  +0.7   |  +0.7   |  +0.6   |  +0.0   |  +0.0   |\n",
    "|      60º       |  +0.7   |  +0.7   |  +0.7   |  -0.2   |  -0.3   |\n",
    "|      75º       |  +0.8   |  +0.8   |  +0.8   |  -0.2   |  -0.3   |\n",
    "```"
   ]
  },
  {
   "cell_type": "markdown",
   "metadata": {},
   "source": [
    "```{table} Dupitch roofs, where $theta = 90$, and its corresponding $c_f$ value.\n",
    ":name: windzones-for-duopitch-roofs-theta90\n",
    "| Roof Angle (α) |    F    |    G    |    H    |    I    |\n",
    "|----------------|---------|---------|---------|---------|\n",
    "|       5º       |  -1.6   |  -2.2   |  -0.7   |  -0.6   |\n",
    "|      15º       |  -1.3   |  -2.0   |  -0.6   |  -0.5   |\n",
    "|      30º       |  -1.1   |  -1.5   |  -0.8   |  -0.5   |\n",
    "|      45º       |  -1.1   |  -1.5   |  -0.9   |  -0.5   |\n",
    "|      60º       |  -1.1   |  -1.5   |  -0.8   |  -0.5   |\n",
    "|      75º       |  -1.1   |  -1.5   |  -0.8   |  -0.5   |\n",
    "```"
   ]
  },
  {
   "cell_type": "markdown",
   "metadata": {},
   "source": [
    "## Windzones for canopies"
   ]
  },
  {
   "cell_type": "markdown",
   "metadata": {},
   "source": [
    "For canopies a resultant force can be determined (without the use of wind\n",
    "zones). This force represents the effect of all windzones on the total structure.\n",
    "The force acts on the points depicted below and is calculated with the same\n",
    "formula as other windloads. The location where this force acts depends\n",
    "on geometry and the sign of the overall force coefficient ($c_f$).\n",
    "\n",
    "```{figure} Images/Wind_Zones_Canopies1.png\n",
    "---\n",
    "scale: 75%\n",
    "---\n",
    "Wind zones on canopies side view.\n",
    "```\n",
    "\n",
    "Locally the wind pressure or suction on the canopy can of course be\n",
    "larger than the average. For the design of roofing elements and fixings\n",
    "these local loads must be taken into account. To calculate the local\n",
    "wind actions the canopy is divided in different windzones as shown below.\n",
    "\n",
    "```{figure} Images/Wind_Zones_Canopies2.png\n",
    "---\n",
    "scale: 50%\n",
    "---\n",
    "Wind zones on canopies top view.\n",
    "```\n",
    "\n",
    "Both the local and resultant force coefficient depents on the blockage\n",
    "(φ) under the canopy. The blockage is defined as the ratio of the area of the\n",
    "feasible, actual obstructions under the canopy divided by the cross\n",
    "sectional area under the canopy.\n",
    "\n",
    "```{figure} Images/Wind_Zones_Canopies3.png\n",
    "---\n",
    "scale: 75%\n",
    "---\n",
    "Wind zones on canopies for different blockages under the canopy.\n",
    "```\n",
    "\n",
    "```{table} Windzones for canopies with different blockages.\n",
    ":name: windzones-canopies-different-blockages\n",
    "| Roof Angle (α) | Blockage Factor (φ) | Overall Force cf |    A    |    B    |    C    |\n",
    "|----------------|----------------------|------------------|---------|---------|---------|\n",
    "|       0º       | Maximum all φ       |      +0.2        |   +0.5  |   +1.8  |   +1.1  |\n",
    "|                | Minimum φ=0         |      -0.5        |   -0.6  |   -1.3  |   -1.4  |\n",
    "|                | Minimum φ=1         |      -1.3        |   -1.5  |   -1.8  |   -2.2  |\n",
    "|       5º       | Maximum all φ       |      +0.4        |   +0.8  |   +2.1  |   +1.3  |\n",
    "|                | Minimum φ=0         |      -0.7        |   -1.1  |   -1.7  |   -1.8  |\n",
    "|                | Minimum φ=1         |      -1.4        |   -1.6  |   -2.2  |   -2.5  |\n",
    "|      10º       | Maximum all φ       |      +0.5        |   +1.2  |   +2.4  |   +1.6  |\n",
    "|                | Minimum φ=0         |      -0.9        |   -1.5  |   -2.0  |   -2.1  |\n",
    "|                | Minimum φ=1         |      -1.4        |   -2.1  |   -2.6  |   -2.7  |\n",
    "|      15º       | Maximum all φ       |      +0.7        |   +1.4  |   +2.7  |   +1.8  |\n",
    "|                | Minimum φ=0         |      -1.1        |   -1.8  |   -2.4  |   -2.5  |\n",
    "|                | Minimum φ=1         |      +1.4        |   -1.6  |   -2.9  |   -3.0  |\n",
    "|      20º       | Maximum all φ       |      +0.8        |   +1.7  |   +2.9  |   +2.1  |\n",
    "|                | Minimum φ=0         |      -1.3        |   -2.2  |   -2.8  |   -2.9  |\n",
    "|                | Minimum φ=1         |      -1.4        |   -1.6  |   -2.9  |   -3.0  |\n",
    "|      25º       | Maximum all φ       |      +1.0        |   +2.0  |   +3.1  |   +2.3  |\n",
    "|                | Minimum φ=0         |      -1.6        |   -2.6  |   -3.2  |   -3.2  |\n",
    "|                | Minimum φ=1         |      -1.4        |   -1.5  |   -2.5  |   -2.8  |\n",
    "|      30º       | Maximum all φ       |      +1.2        |   +2.2  |   +3.2  |   +2.4  |\n",
    "|                | Minimum φ=0         |      -1.8        |   -3.0  |   -3.8  |   -3.6  |\n",
    "|                | Minimum φ=1         |      -1.4        |   -1.5  |   -2.2  |   -2.7  |\n",
    "```"
   ]
  },
  {
   "cell_type": "markdown",
   "metadata": {},
   "source": [
    "1 For other edges lower force coefficients may be applicable, see NEN-EN-1991-1-4  \n",
    "2 For $θ=0$, between $α = 0º$ and $45º$ the pressure changes rapidly between positive and negative values. For those roofs, four cases should be considered where the largest or smallest values of all areas F, G, and H are combined with the largest or smallest values in areas I and J. No mixing of positive and negative values is allowed on the same face."
   ]
  },
  {
   "cell_type": "markdown",
   "metadata": {},
   "source": [
    "## Force coefficients for friction\n",
    "On faces parallel to the wind a friction force is acting. For design purposes it\n",
    "may be assumed that this force acts along all faces parallel to the wind\n",
    "direction. According NEN-EN-1991-1-4 this area can be reduced dependent\n",
    "on geometry.\n",
    "\n",
    "```{table} Friction coefficient for different surfaces.\n",
    ":name: friction-coefficients-canopies\n",
    "| Surface                              | Friction Coefficient ($c_{fr}$) |\n",
    "|--------------------------------------|----------------------------|\n",
    "| Smooth (e.g.: smooth concrete, steel)|            0.01            |\n",
    "| Rough (e.g.: rough concrete, tar-boards)|           0.02            |\n",
    "| Very rough (e.g.: ripples, folds, ribs)|          0.04            |\n",
    "```"
   ]
  },
  {
   "cell_type": "markdown",
   "metadata": {},
   "source": [
    "## Force coefficients for internal pressure\n",
    "The force coefficients for internal pressure depend on the amount of\n",
    "openings in the façades and the geometry of the building. To avoid too\n",
    "complicated calculations, for design a note is stated in NEN-EN-1991-1-4:\n",
    "‘Where it is not possible, or not considered justified, to estimate $μ$\n",
    "[dependend on geometry] then cpi should be taken as the more onerous\n",
    "(unfavourable red.) of +0,2 and -0,3.’ However, if the total amount of\n",
    "openings on two façades exeeds 30% of the area of those façades, the rules\n",
    "for canopies should be applied."
   ]
  },
  {
   "cell_type": "markdown",
   "metadata": {},
   "source": [
    "## Windregions in the Netherlands"
   ]
  },
  {
   "cell_type": "markdown",
   "metadata": {},
   "source": [
    "```{figure} Images/Windzones_NL.png\n",
    "---\n",
    "scale: 50%\n",
    "---\n",
    "Windregions in the Netherlands.\n",
    "```"
   ]
  },
  {
   "cell_type": "markdown",
   "metadata": {},
   "source": [
    "## Peak velocity pressure\n",
    "```{table} Peak velocity pressures $q_p(z_e) [kN/m^2]$.\n",
    ":name: peak-velocity-pressure\n",
    "|$z_e$ [m]| Coastal Area I | Rural Area I | Urban Area I | Coastal Area II | Rural Area II | Urban Area II | Coastal Area III | Rural Area III | Urban Area III |\n",
    "|---|----------------|--------------|--------------|----------------|---------------|---------------|-----------------|----------------|----------------|\n",
    "| 1 | 0.93           | 0.71         | 0.69         | 0.78           | 0.60          | 0.58          | 0.49            | 0.48           | 0.48           |\n",
    "| 2 | 1.11           | 0.71         | 0.69         | 0.93           | 0.60          | 0.58          | 0.49            | 0.48           | 0.48           |\n",
    "| 3 | 1.22           | 0.71         | 0.69         | 1.02           | 0.60          | 0.58          | 0.49            | 0.48           | 0.48           |\n",
    "| 4 | 1.30           | 0.71         | 0.69         | 1.09           | 0.60          | 0.58          | 0.49            | 0.49           | 0.48           |\n",
    "| 5 | 1.37           | 0.78         | 0.69         | 1.14           | 0.66          | 0.58          | 0.54            | 0.48           | 0.48           |\n",
    "| 6 | 1.42           | 0.84         | 0.69         | 1.19           | 0.71          | 0.58          | 0.58            | 0.48           | 0.48           |\n",
    "| 7 | 1.47           | 0.89         | 0.69         | 1.23           | 0.75          | 0.58          | 0.62            | 0.48           | 0.48           |\n",
    "| 8 | 1.51           | 0.94         | 0.73         | 1.26           | 0.79          | 0.62          | 0.65            | 0.51           | 0.48           |\n",
    "| 9 | 1.55           | 0.98         | 0.77         | 1.29           | 0.82          | 0.65          | 0.68            | 0.53           | 0.48           |\n",
    "| 10| 1.58           | 1.02         | 0.81         | 1.32           | 0.85          | 0.68          | 0.70            | 0.56           | 0.48           |\n",
    "| 15| 1.71           | 1.16         | 0.96         | 1.43           | 0.98          | 0.80          | 0.80            | 0.66           | 0.66           |\n",
    "| 20| 1.80           | 1.27         | 1.07         | 1.51           | 1.07          | 0.90          | 0.88            | 0.74           | 0.74           |\n",
    "| 25| 1.88           | 1.36         | 1.16         | 1.57           | 1.14          | 0.97          | 0.94            | 0.80           | 0.80           |\n",
    "| 30| 1.94           | 1.43         | 1.23         | 1.63           | 1.20          | 1.03          | 0.99            | 0.85           | 0.85           |\n",
    "| 35| 2.00           | 1.50         | 1.30         | 1.67           | 1.25          | 1.09          | 1.03            | 0.89           | 0.89           |\n",
    "| 40| 2.04           | 1.55         | 1.35         | 1.71           | 1.30          | 1.13          | 1.07            | 0.93           | 0.93           |\n",
    "| 45| 2.09           | 1.60         | 1.40         | 1.75           | 1.34          | 1.17          | 1.11            | 0.97           | 0.97           |\n",
    "| 50| 2.12           | 1.65         | 1.45         | 1.78           | 1.38          | 1.21          | 1.14            | 1.00           | 1.00           |\n",
    "| 55| 2.16           | 1.69         | 1.49         | 1.81           | 1.42          | 1.25          | 1.17            | 1.03           | 1.03           |\n",
    "| 60| 2.19           | 1.73         | 1.53         | 1.83           | 1.45          | 1.28          | 1.19            | 1.05           | 1.05           |\n",
    "| 65| 2.22           | 1.76         | 1.57         | 1.86           | 1.48          | 1.31          | 1.22            | 1.08           | 1.08           |\n",
    "| 70| 2.25           | 1.80         | 1.60         | 1.88           | 1.50          | 1.34          | 1.24            | 1.10           | 1.10           |\n",
    "| 75| 2.27           | 1.83         | 1.63         | 1.90           | 1.53          | 1.37          | 1.26            | 1.13           | 1.13           |\n",
    "| 80| 2.30           | 1.86         | 1.66         | 1.92           | 1.55          | 1.39          | 1.28            | 1.15           | 1.15           |\n",
    "| 85| 2.32           | 1.88         | 1.69         | 1.94           | 1.58          | 1.42          | 1.30            | 1.17           | 1.17           |\n",
    "| 90| 2.34           | 1.91         | 1.72         | 1.96           | 1.60          | 1.44          | 1.32            | 1.18           | 1.18           |\n",
    "| 95| 2.36           | 1.93         | 1.74         | 1.98           | 1.62          | 1.46          | 1.33            | 1.20           | 1.20           |\n",
    "|100| 2.38           | 1.96         | 1.77         | 1.99           | 1.64          | 1.48          | 1.35            | 1.22           | 1.22           |\n",
    "|110| 2.42           | 2.00         | 1.81         | 2.03           | 1.68          | 1.52          | 1.38            | 1.25           | 1.25           |\n",
    "|120| 2.45           | 2.04         | 1.85         | 2.05           | 1.71          | 1.55          | 1.41            | 1.28           | 1.28           |\n",
    "|130| 2.48           | 2.08         | 1.89         | 2.08           | 1.74          | 1.59          | 1.44            | 1.31           | 1.31           |\n",
    "|140| 2.51           | 2.12         | 1.93         | 2.10           | 1.77          | 1.62          | 1.46            | 1.33           | 1.33           |\n",
    "|150| 2.54           | 2.15         | 1.96         | 2.13           | 1.80          | 1.65          | 1.48            | 1.35           | 1.35           |\n",
    "|160| 2.56           | 2.18         | 2.00         | 2.15           | 1.83          | 1.67          | 1.50            | 1.38           | 1.38           |\n",
    "|170| 2.59           | 2.21         | 2.03         | 2.17           | 1.85          | 1.70          | 1.52            | 1.40           | 1.40           |\n",
    "|180| 2.61           | 2.24         | 2.06         | 2.19           | 1.88          | 1.72          | 1.54            | 1.42           | 1.42           |\n",
    "|190| 2.63           | 2.27         | 2.08         | 2.20           | 1.90          | 1.75          | 1.56            | 1.44           | 1.44           |\n",
    "|200| 2.65           | 2.29         | 2.11         | 2.22           | 1.92          | 1.77          | 1.58            | 1.46           | 1.46           |\n",
    "```\n"
   ]
  }
 ],
 "metadata": {
  "kernelspec": {
   "display_name": "Python 3",
   "language": "python",
   "name": "python3"
  },
  "language_info": {
   "codemirror_mode": {
    "name": "ipython",
    "version": 3
   },
   "file_extension": ".py",
   "mimetype": "text/x-python",
   "name": "python",
   "nbconvert_exporter": "python",
   "pygments_lexer": "ipython3",
   "version": "3.8.0"
  },
  "widgets": {
   "application/vnd.jupyter.widget-state+json": {
    "state": {},
    "version_major": 2,
    "version_minor": 0
   }
  }
 },
 "nbformat": 4,
 "nbformat_minor": 4
}
