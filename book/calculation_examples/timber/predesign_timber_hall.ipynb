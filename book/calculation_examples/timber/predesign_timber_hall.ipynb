{
 "cells": [
  {
   "cell_type": "markdown",
   "metadata": {},
   "source": [
    "# Pre-design of timber hall\n",
    "```{note}\n",
    "The calculations serve as examples for educational purposes and not as guidance for practice.\n",
    "```"
   ]
  },
  {
   "cell_type": "markdown",
   "metadata": {},
   "source": [
    "## Design example  \n",
    "\n",
    "Design of \"FLUX\" type building  \n",
    "FLUX $\\rightarrow$ braced in one direction, unbraced in the other directions  \n",
    "This design: braced in two directions  \n",
    "With wind bracing  \n",
    "\n",
    "```{figure} Images/hal_schematisch.png\n",
    "---\n",
    "name: directive-fig\n",
    "---\n",
    "Schematic drawing\n",
    "```"
   ]
  },
  {
   "cell_type": "markdown",
   "metadata": {},
   "source": [
    "## Material  \n",
    "\n",
    "### Laminated Timber Beams GL24h:  \n",
    "- $f_{m;0;k} = 24 \\, \\text{N/mm}^2 \\rightarrow f_{mod} = 24 \\cdot 0.7 = 16.8 \\, \\text{N/mm}^2$  \n",
    "- $f_{c;0;k} = 24 \\, \\text{N/mm}^2 \\rightarrow f_{cod} = 24 \\cdot 0.7 = 16.8 \\, \\text{N/mm}^2$  \n",
    "- $E_{0;mean} = 11500 \\, \\text{N/mm}^2$  \n",
    "- $k_{def} = 0.6 \\, \\text{for permanent loads}$  \n",
    "\n",
    "### Sawn Timber Beams C24:  \n",
    "- $f_{m;0;k} = 24 \\, \\text{N/mm}^2 \\rightarrow f_{mod} = 24 \\cdot 0.7 = 16.8 \\, \\text{N/mm}^2$  \n",
    "- $f_{c;0;k} = 21 \\, \\text{N/mm}^2 \\rightarrow f_{cod} = 21 \\cdot 0.7 = 14.7 \\, \\text{N/mm}^2$  \n",
    "- $E_{0;mean} = 11000 \\, \\text{N/mm}^2$  \n",
    "- $k_{def} = 0.6 \\, \\text{for permanent loads}$  \n",
    "\n",
    "```{figure} Images/verbinding_staal.png\n",
    "---\n",
    "scale: 100%\n",
    "align: right\n",
    "---\n",
    "Steel connection\n",
    "```\n",
    "### Connections\n",
    "\n",
    "Steel-to-Timber  \n",
    "Bolts M12 8.8  \n",
    "If $t_{1} = \\frac{b}{2} > 100 \\, \\text{mm}$, then $F_{v;RK} = 10 \\, \\text{kN}$ per shear plane  "
   ]
  },
  {
   "cell_type": "markdown",
   "metadata": {},
   "source": [
    "## Loads  \n",
    "\n",
    "- **Permanent**: Roof (structure + finish):  \n",
    "    $p_{roof;self-weight} = 0.5 \\, \\text{kN/m}^2 = p_{g}$  \n",
    "\n",
    "- **Variable**: Snow and wind  \n",
    "    $p_{roof;snow} = 0.56 \\, \\text{kN/m}^2 = p_{q;sn} \\ \\ \\ \\left( \\psi_{0} = 0 \\right)$  \n",
    "    Area 2, $h = 10 \\rightarrow p_{wind} = 1.0 \\, \\text{kN/m}^2 = p_{q;w} \\ \\ \\ \\left( \\psi_{0} = 0 \\right)$  \n",
    "\n",
    "- **CC2** $rightarrow \\gamma_{q;g} = 1.2 \\, (0.9 \\, \\text{if favourable}); \\, \\gamma_{q;q} = 1.5$  "
   ]
  },
  {
   "cell_type": "markdown",
   "metadata": {},
   "source": [
    "## Dimensioning of beams/columns based on rules of thumb\n",
    "\n",
    "```{figure} Images/kolom_hal.png\n",
    "---\n",
    "scale: 100%\n",
    "align: right\n",
    "---\n",
    "```\n",
    "## Columns  \n",
    "$h_{y} = \\frac{l_{buc;y}}{20} = \\frac{10000}{20} = 500 \\, \\text{mm}$  \n",
    "$h_{z} = \\frac{l_{buc;z}}{20} = \\frac{5000}{20} = 250 \\, \\text{mm}$  \n",
    "```{note}  \n",
    "$l_{buc;z} = 5000$ due to wind bracing in the façade.  \n",
    "```\n",
    "### Main Beam (centre-to-centre 5000 mm):  \n",
    "$h = \\frac{L}{17} = \\frac{20000}{17} = 1176 \\rightarrow \\text{choose} \\, 1200 \\, \\text{mm}$  \n",
    "$b = \\frac{h}{6} = \\frac{1200}{6} = 200 \\rightarrow \\text{choose} \\, 250 \\, \\text{mm}$  \n",
    "```{note}  \n",
    "$b = \\frac{h}{6}$ applies for laminated timber; 250 mm is chosen as it matches the column dimension.  \n",
    "```\n",
    "### Purlins (centre-to-centre 2500 mm):  \n",
    "$h = \\frac{L}{17} = \\frac{5000}{17} = 294 \\rightarrow \\text{choose} \\, 300 \\, \\text{mm}$  \n",
    "$b = \\frac{h}{3} = \\frac{300}{3} = 100 \\rightarrow \\text{choose} \\, 100 \\, \\text{mm}$  \n",
    "```{note}  \n",
    "$b = \\frac{h}{3}$ applies for sawn timber; choose the thickness of façade panels based on the centre-to-centre spacing of the purlins, i.e., 2500 mm.  \n",
    "```\n",
    "\n",
    "### Bearing of Main Beams on Columns: Fork Supports  \n",
    "No rotation about the x-axis.\n",
    "Top chord supported by purlins to prevent lateral-torsional buckling due to snow load (compression at the top of the beam).\n",
    "For wind suction, buckling length: 20 m! (compression at the bottom, check lateral-torsional buckling during the verification phase). "
   ]
  },
  {
   "cell_type": "markdown",
   "metadata": {},
   "source": [
    "## Design verification for bending/compression and deformations  \n",
    "\n",
    "### Main beam (centre-to-centre 5 m)  \n",
    "```{figure} Images/hoofdligger_mechanica_hal.png\n",
    "---\n",
    "scale: 100%\n",
    "align: right\n",
    "---\n",
    "```\n",
    "$q_{\\gamma} = 5 \\cdot 0.5 = 2.5 \\, \\text{kN/m}$  \n",
    "$q_{q;sn} = 5 \\cdot 0.56 = 2.8 \\, \\text{kN/m}$  \n",
    "$q_{d} = 1.2 \\cdot 2.5 + 1.5 \\cdot 2.8 = 7.2 \\, \\text{kN/m}$  \n",
    "$M_{d} = \\frac{1}{8} \\cdot 7.2 \\cdot 20^2 = 360 \\, \\text{kNm}$  \n",
    "$\\sigma_{mod} = \\frac{360 \\cdot 10^6}{\\frac{1}{6} \\cdot 250 \\cdot 1200^2} = 6.0 \\, \\text{N/mm}^2 \\rightarrow f_{mod} < 16.8 \\, \\text{OK}$  \n",
    "\n",
    "$\\delta_{q;\\gamma} = \\frac{5 \\cdot 2.5 \\cdot 20000^4}{384 \\cdot 11500 \\cdot \\frac{1}{12} \\cdot 250 \\cdot 1200^3} = 12.6 \\, \\text{mm}$  \n",
    "Creep (only for permanent load) $\\rightarrow \\delta_{q;\\gamma;creep} = 0.6 \\cdot 12.6 = 7.5 \\, \\text{mm}$  \n",
    "$\\delta_{q;sn} = \\frac{2.8}{2.5} \\cdot 12.6 = 14 \\, \\text{mm}$  \n",
    "$\\delta_{tot} = 12.6 + 7.5 + 14.0 = 34.1 \\, \\text{mm} < 0.004 \\cdot 20000 = 80 \\, \\text{mm}$  \n",
    "\n",
    "#### Optimisation  \n",
    "$W_{req} = W \\cdot \\frac{6.0}{16.8} = \\frac{1}{6} \\cdot 250 \\cdot 1200^2 \\cdot \\frac{6.0}{16.8} = 2.1 \\cdot 10^7 = \\frac{1}{6} \\cdot b \\cdot h^2$  \n",
    "$h_{req} = \\sqrt{\\frac{2.1 \\cdot 10^7 \\cdot 6}{250}} = 717 \\, \\text{mm}$  \n",
    "\n",
    "$I_{req} = I \\cdot \\frac{34.1}{80} = \\frac{1}{12} \\cdot 250 \\cdot 1200^3 \\cdot \\frac{34.1}{80} = 1.54 \\cdot 10^{10} = \\frac{1}{6} \\cdot b \\cdot h^3$  \n",
    "$h_{req} = \\sqrt{\\frac{1.54 \\cdot 10^{10} \\cdot 12}{250}} = 903 \\, \\text{mm} \\, \\leftarrow \\text{governing}$  \n",
    "\n",
    "$\\rightarrow \\text{Choose } b \\times h: \\, 250 \\times 1000$  "
   ]
  },
  {
   "cell_type": "markdown",
   "metadata": {},
   "source": [
    "### Column\n",
    "\n",
    "#### Effective length\n",
    "```{figure} Images/labda_kc_hal.png\n",
    "---\n",
    "scale: 100%\n",
    "align: right\n",
    "---\n",
    "```\n",
    "Verification of compressive stress\n",
    "$N_{d} = \\left( 5 \\cdot 10 \\right) \\cdot \\left( 1.2 \\cdot 0.5 + 1.5 \\cdot 0.56 \\right) = 72 \\, \\text{kN}$  \n",
    "$\\lambda = \\frac{l_{buc}}{i} \\rightarrow i = 0.29 \\cdot h \\, \\text{(rectangular cross-section)}$  \n",
    "$i_{z} = 0.29 \\cdot 250 = 72.5 \\, \\text{mm}; \\, l_{buc,z} = 5000 \\, \\text{mm} \\rightarrow \\frac{l_{buc,z}}{i_{z}} = 69$  \n",
    "$i_{y} = 0.29 \\cdot 500 = 145 \\, \\text{mm}; \\, l_{buc,y} = 10000 \\, \\text{mm} \\rightarrow \\frac{l_{buc,y}}{i_{y}} = 69 \\rightarrow k_{c} = 0.6$  \n",
    "$\\sigma_{c;0;d} = \\frac{72 \\cdot 10^3}{250 \\cdot 500} = 0.6 \\, \\text{N/mm}^2 << 0.6 \\cdot 16.8 = 10.1 \\, \\text{N/mm}^2$  "
   ]
  },
  {
   "cell_type": "markdown",
   "metadata": {},
   "source": [
    "#### Windload\n",
    "```{figure} Images/kolom_mechanica_hal.png\n",
    "---\n",
    "scale: 100%\n",
    "align: right\n",
    "---\n",
    "```\n",
    "Control deformation: \\\n",
    "$q_{w;d} = 5.0 \\cdot 1.0 \\cdot \\left( 0.8 + 0.3 \\right) \\cdot 1.5 = 8.3 kN/m$ \\\n",
    "$M_{d} = \\frac{1}{8} \\cdot 8.3 \\cdot 10^2 = 103 kNm$ \\\n",
    "$\\sigma_{mod} = \\frac{103 \\cdot 10^6}{\\frac{1}{6} \\cdot 250 \\cdot 500^2} = 9.9 N/mm^2 < 16.8 \\ OK$ \\\n",
    "$\\delta = \\frac{5 \\cdot 1.0 \\cdot  \\left(0.8 + 0.3\\right) \\cdot 10000^4}{384 \\cdot 11500 \\cdot \\left(\\frac{1}{12} \\cdot 250 \\cdot 500^3\\right)} = 23.9 mm < 0.004 \\cdot 10000 = 40 mm \\ OK$ \\\n"
   ]
  },
  {
   "cell_type": "markdown",
   "metadata": {},
   "source": [
    "### Connection column-beam\n",
    "\n",
    "#### Windsuction\n",
    "\n",
    "$N_{d} = \\left( 5 \\cdot 10 \\right) \\cdot \\left( -0.9 \\cdot 0.5 + 1.5 \\cdot 1.0 \\cdot \\left( 0.7 + 0.3 \\right) \\right) = 52.5 \\, \\text{kN}$  \n",
    "\n",
    "```{note}  \n",
    "Surface area: $5 \\cdot 10$  \n",
    "Favourable self-weight: $-0.9$  \n",
    "$\\gamma_{g} = 1.5$  \n",
    "$\\gamma_{q} = 1.0$  \n",
    "Wind factors: $\\left( 0.7 + 0.3 \\right)$  \n",
    "```\n",
    "\n",
    "**Required number of shear planes with bolds** \\\n",
    "M12 steel-to-timber: $\\frac{52.5}{7} = 7.5 = 8$ shear plane \\\n",
    "1 shear plane: $F_{vd} = 10 \\cdot 0.7 = 7 kN$ \\\n",
    "$\\rightarrow$ 4 bolts x 2 shear planes\n",
    "\n",
    "```{figure} Images/verbinding_detail_hout.png\n",
    "---\n",
    "name: hal-fig\n",
    "---\n",
    "Drawing of connection.\n",
    "```\n"
   ]
  },
  {
   "cell_type": "markdown",
   "metadata": {},
   "source": [
    "### Verification of deformation in roof wind bracing \n",
    "\n",
    "```{figure} Images/windverband_vervoming_mechanica.png\n",
    "---\n",
    "scale: 100%\n",
    "align: right\n",
    "---\n",
    "```\n",
    "$I_{eff} = \\Sigma \\ z^2 \\cdot A \\cdot \\gamma = 2 \\cdot 2500^2 \\cdot \\left(250 \\cdot 5000 \\right) \\cdot 0.5 = 7.82 \\cdot 10^{11} mm^2$\n",
    "```{note}\n",
    "Only the Steiner component is considered for  $I_{eff}$ \\\n",
    "$\\gamma$ is a reduction factor for deformation of the wall members and connections.\n",
    "```\n",
    "\n",
    "$q_{wind} = (\\frac{1}{2})[(\\frac{10}{2}) \\cdot (0.8 + 0.4) + (0.04 \\cdot 40)]\\cdot 1 = \\frac{1}{2} \\cdot 7.6 \\cdot 1.0 = 3.8 kN/m$\n",
    "```{note}\n",
    "$\\frac{1}{2}$: 2 Horizontal trusses \\\n",
    "$\\frac{10}{2}$: Half transferred to foundation \\\n",
    "$0.8$: Pressure on front façade \\\n",
    "$0.4$: Suction on rear façade \\\n",
    "Wind friction on roof: $0.04$ \\\n",
    "$q_{w} = 1.0$\n",
    "```\n",
    "\n",
    "$S = \\frac{5}{384} \\cdot \\frac{3.8 \\cdot 200000^4}{11500 \\cdot 7.82 \\cdot 10^{11}} = 0.9 mm << \\frac{l}{500} = 20000/500 = 40 mm$"
   ]
  },
  {
   "cell_type": "markdown",
   "metadata": {},
   "source": [
    "\n",
    "```{figure} Images/houtenhal_schets.png\n",
    "---\n",
    "name: halschets-fig\n",
    "---\n",
    "Sketch of timber hall\n",
    "```\n"
   ]
  },
  {
   "cell_type": "markdown",
   "metadata": {},
   "source": []
  }
 ],
 "metadata": {
  "kernelspec": {
   "display_name": "geospatial",
   "language": "python",
   "name": "geospatial"
  },
  "language_info": {
   "codemirror_mode": {
    "name": "ipython",
    "version": 3
   },
   "file_extension": ".py",
   "mimetype": "text/x-python",
   "name": "python",
   "nbconvert_exporter": "python",
   "pygments_lexer": "ipython3",
   "version": "3.9.13"
  },
  "widgets": {
   "application/vnd.jupyter.widget-state+json": {
    "state": {},
    "version_major": 2,
    "version_minor": 0
   }
  }
 },
 "nbformat": 4,
 "nbformat_minor": 4
}
